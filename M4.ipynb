{
  "cells": [
    {
      "cell_type": "markdown",
      "metadata": {
        "id": "view-in-github",
        "colab_type": "text"
      },
      "source": [
        "<a href=\"https://colab.research.google.com/github/DataMinati/Stock-overflow/blob/main/M4.ipynb\" target=\"_parent\"><img src=\"https://colab.research.google.com/assets/colab-badge.svg\" alt=\"Open In Colab\"/></a>"
      ]
    },
    {
      "cell_type": "markdown",
      "metadata": {
        "id": "4d_SRlrfesKY"
      },
      "source": [
        "# Module 4 : Performance measurements of Random Forest and Support Vector Machines"
      ]
    },
    {
      "cell_type": "code",
      "execution_count": 4,
      "metadata": {
        "id": "l5jwF0x_esKb"
      },
      "outputs": [],
      "source": [
        "#import library packages\n",
        "import pandas as p\n",
        "import matplotlib.pyplot as plt\n",
        "import seaborn as s\n",
        "import numpy as n"
      ]
    },
    {
      "cell_type": "code",
      "execution_count": 6,
      "metadata": {
        "id": "peXo9lqSesKd"
      },
      "outputs": [],
      "source": [
        "#Load given dataset\n",
        "data = p.read_csv(\"/content/combined_stock_data.csv\")"
      ]
    },
    {
      "cell_type": "code",
      "execution_count": 7,
      "metadata": {
        "id": "IlVfU4sjesKd"
      },
      "outputs": [],
      "source": [
        "data1 = p.read_csv(\"/content/upload_DJIA_table.csv\")"
      ]
    },
    {
      "cell_type": "code",
      "execution_count": 8,
      "metadata": {
        "id": "sSr9K7oWesKe"
      },
      "outputs": [],
      "source": [
        "import warnings\n",
        "warnings.filterwarnings('ignore')"
      ]
    },
    {
      "cell_type": "code",
      "execution_count": 9,
      "metadata": {
        "id": "a6w6-x9LesKe"
      },
      "outputs": [],
      "source": [
        "df=p.concat([data1,data],axis=1)"
      ]
    },
    {
      "cell_type": "code",
      "execution_count": 10,
      "metadata": {
        "id": "2AujCYD0esKe"
      },
      "outputs": [],
      "source": [
        "df=df.dropna()"
      ]
    },
    {
      "cell_type": "code",
      "execution_count": 11,
      "metadata": {
        "colab": {
          "base_uri": "https://localhost:8080/"
        },
        "id": "L7Ls-0CmesKf",
        "outputId": "59c09c14-30c1-483f-a5a6-6e5bb2e5e593"
      },
      "outputs": [
        {
          "output_type": "execute_result",
          "data": {
            "text/plain": [
              "Index(['Date', 'Open', 'High', 'Low', 'Close', 'Volume', 'Adj Close',\n",
              "       'Unnamed: 0', 'Date', 'Label', 'Top1', 'Top2', 'Top3', 'Top4', 'Top5',\n",
              "       'Top6', 'Top7', 'Top8', 'Top9', 'Top10', 'Top11', 'Top12', 'Top13',\n",
              "       'Top14', 'Top15', 'Top16', 'Top17', 'Top18', 'Top19', 'Top20', 'Top21',\n",
              "       'Top22', 'Top23', 'Top24', 'Top25', 'Para', 'Subjectivity',\n",
              "       'Objectivity', 'Positive', 'Neutral', 'Negative'],\n",
              "      dtype='object')"
            ]
          },
          "metadata": {},
          "execution_count": 11
        }
      ],
      "source": [
        "df.columns"
      ]
    },
    {
      "cell_type": "code",
      "execution_count": 12,
      "metadata": {
        "id": "sc8FOdeOesKg"
      },
      "outputs": [],
      "source": [
        "from sklearn.preprocessing import LabelEncoder\n",
        "var_mod = ['Open', 'High', 'Low', 'Close', 'Volume', 'Adj Close','Label', 'Top1', 'Top2', 'Top3', 'Top4', 'Top5',\n",
        "       'Top6', 'Top7', 'Top8', 'Top9', 'Top10', 'Top11', 'Top12', 'Top13',\n",
        "       'Top14', 'Top15', 'Top16', 'Top17', 'Top18', 'Top19', 'Top20', 'Top21',\n",
        "       'Top22', 'Top23', 'Top24', 'Top25', 'Subjectivity',\n",
        "       'Objectivity', 'Positive', 'Neutral', 'Negative']\n",
        "le = LabelEncoder()\n",
        "for i in var_mod:\n",
        "    df[i] = le.fit_transform(df[i]).astype(str)"
      ]
    },
    {
      "cell_type": "code",
      "execution_count": 13,
      "metadata": {
        "id": "UApFBbbLesKg"
      },
      "outputs": [],
      "source": [
        "#According to the cross-validated MCC scores, the random forest is the best-performing model, so now let's evaluate its performance on the test set.\n",
        "from sklearn.metrics import confusion_matrix, classification_report, matthews_corrcoef, cohen_kappa_score, accuracy_score, average_precision_score, roc_auc_score"
      ]
    },
    {
      "cell_type": "code",
      "execution_count": 14,
      "metadata": {
        "id": "xQUgLqrdesKh"
      },
      "outputs": [],
      "source": [
        "X=df[['Open', 'High', 'Low', 'Close', 'Volume', 'Adj Close','Subjectivity','Objectivity', 'Positive', 'Neutral', 'Negative']]\n",
        "#Response variable\n",
        "y = df.loc[:,'Label']    "
      ]
    },
    {
      "cell_type": "code",
      "execution_count": 15,
      "metadata": {
        "colab": {
          "base_uri": "https://localhost:8080/",
          "height": 424
        },
        "id": "N3Djy9e1esKh",
        "outputId": "ff8b9e4e-5ded-4c16-92e0-d139a3aa96cc"
      },
      "outputs": [
        {
          "output_type": "execute_result",
          "data": {
            "text/plain": [
              "     Open High   Low Close Volume Adj Close Subjectivity Objectivity Positive  \\\n",
              "0     996  997  1021  1000    203      1000           39          19        0   \n",
              "1     894  966   937   996    839       996           58           0       52   \n",
              "2     804  848   825   881    545       881           50           8        0   \n",
              "3     765  776   777   790    616       790           24          34        0   \n",
              "4     784  767   752   750    884       750           15          43       16   \n",
              "...   ...  ...   ...   ...    ...       ...          ...         ...      ...   \n",
              "1091   81   88    96    88    890        88           18          40       18   \n",
              "1092   98   92    94    80    990        80           44          14       33   \n",
              "1093   88   84    99    95    644        95           46          12       14   \n",
              "1094   92   86    78    89    918        89           34          24       15   \n",
              "1095   93   83    97    90    298        90           15          43       10   \n",
              "\n",
              "     Neutral Negative  \n",
              "0         19       46  \n",
              "1          0        0  \n",
              "2          8       53  \n",
              "3         34       38  \n",
              "4         43       13  \n",
              "...      ...      ...  \n",
              "1091      40       15  \n",
              "1092      14       31  \n",
              "1093      12       45  \n",
              "1094      24       34  \n",
              "1095      43       19  \n",
              "\n",
              "[1096 rows x 11 columns]"
            ],
            "text/html": [
              "\n",
              "  <div id=\"df-359ede38-d6f7-4e2d-9afc-f033a999b805\">\n",
              "    <div class=\"colab-df-container\">\n",
              "      <div>\n",
              "<style scoped>\n",
              "    .dataframe tbody tr th:only-of-type {\n",
              "        vertical-align: middle;\n",
              "    }\n",
              "\n",
              "    .dataframe tbody tr th {\n",
              "        vertical-align: top;\n",
              "    }\n",
              "\n",
              "    .dataframe thead th {\n",
              "        text-align: right;\n",
              "    }\n",
              "</style>\n",
              "<table border=\"1\" class=\"dataframe\">\n",
              "  <thead>\n",
              "    <tr style=\"text-align: right;\">\n",
              "      <th></th>\n",
              "      <th>Open</th>\n",
              "      <th>High</th>\n",
              "      <th>Low</th>\n",
              "      <th>Close</th>\n",
              "      <th>Volume</th>\n",
              "      <th>Adj Close</th>\n",
              "      <th>Subjectivity</th>\n",
              "      <th>Objectivity</th>\n",
              "      <th>Positive</th>\n",
              "      <th>Neutral</th>\n",
              "      <th>Negative</th>\n",
              "    </tr>\n",
              "  </thead>\n",
              "  <tbody>\n",
              "    <tr>\n",
              "      <th>0</th>\n",
              "      <td>996</td>\n",
              "      <td>997</td>\n",
              "      <td>1021</td>\n",
              "      <td>1000</td>\n",
              "      <td>203</td>\n",
              "      <td>1000</td>\n",
              "      <td>39</td>\n",
              "      <td>19</td>\n",
              "      <td>0</td>\n",
              "      <td>19</td>\n",
              "      <td>46</td>\n",
              "    </tr>\n",
              "    <tr>\n",
              "      <th>1</th>\n",
              "      <td>894</td>\n",
              "      <td>966</td>\n",
              "      <td>937</td>\n",
              "      <td>996</td>\n",
              "      <td>839</td>\n",
              "      <td>996</td>\n",
              "      <td>58</td>\n",
              "      <td>0</td>\n",
              "      <td>52</td>\n",
              "      <td>0</td>\n",
              "      <td>0</td>\n",
              "    </tr>\n",
              "    <tr>\n",
              "      <th>2</th>\n",
              "      <td>804</td>\n",
              "      <td>848</td>\n",
              "      <td>825</td>\n",
              "      <td>881</td>\n",
              "      <td>545</td>\n",
              "      <td>881</td>\n",
              "      <td>50</td>\n",
              "      <td>8</td>\n",
              "      <td>0</td>\n",
              "      <td>8</td>\n",
              "      <td>53</td>\n",
              "    </tr>\n",
              "    <tr>\n",
              "      <th>3</th>\n",
              "      <td>765</td>\n",
              "      <td>776</td>\n",
              "      <td>777</td>\n",
              "      <td>790</td>\n",
              "      <td>616</td>\n",
              "      <td>790</td>\n",
              "      <td>24</td>\n",
              "      <td>34</td>\n",
              "      <td>0</td>\n",
              "      <td>34</td>\n",
              "      <td>38</td>\n",
              "    </tr>\n",
              "    <tr>\n",
              "      <th>4</th>\n",
              "      <td>784</td>\n",
              "      <td>767</td>\n",
              "      <td>752</td>\n",
              "      <td>750</td>\n",
              "      <td>884</td>\n",
              "      <td>750</td>\n",
              "      <td>15</td>\n",
              "      <td>43</td>\n",
              "      <td>16</td>\n",
              "      <td>43</td>\n",
              "      <td>13</td>\n",
              "    </tr>\n",
              "    <tr>\n",
              "      <th>...</th>\n",
              "      <td>...</td>\n",
              "      <td>...</td>\n",
              "      <td>...</td>\n",
              "      <td>...</td>\n",
              "      <td>...</td>\n",
              "      <td>...</td>\n",
              "      <td>...</td>\n",
              "      <td>...</td>\n",
              "      <td>...</td>\n",
              "      <td>...</td>\n",
              "      <td>...</td>\n",
              "    </tr>\n",
              "    <tr>\n",
              "      <th>1091</th>\n",
              "      <td>81</td>\n",
              "      <td>88</td>\n",
              "      <td>96</td>\n",
              "      <td>88</td>\n",
              "      <td>890</td>\n",
              "      <td>88</td>\n",
              "      <td>18</td>\n",
              "      <td>40</td>\n",
              "      <td>18</td>\n",
              "      <td>40</td>\n",
              "      <td>15</td>\n",
              "    </tr>\n",
              "    <tr>\n",
              "      <th>1092</th>\n",
              "      <td>98</td>\n",
              "      <td>92</td>\n",
              "      <td>94</td>\n",
              "      <td>80</td>\n",
              "      <td>990</td>\n",
              "      <td>80</td>\n",
              "      <td>44</td>\n",
              "      <td>14</td>\n",
              "      <td>33</td>\n",
              "      <td>14</td>\n",
              "      <td>31</td>\n",
              "    </tr>\n",
              "    <tr>\n",
              "      <th>1093</th>\n",
              "      <td>88</td>\n",
              "      <td>84</td>\n",
              "      <td>99</td>\n",
              "      <td>95</td>\n",
              "      <td>644</td>\n",
              "      <td>95</td>\n",
              "      <td>46</td>\n",
              "      <td>12</td>\n",
              "      <td>14</td>\n",
              "      <td>12</td>\n",
              "      <td>45</td>\n",
              "    </tr>\n",
              "    <tr>\n",
              "      <th>1094</th>\n",
              "      <td>92</td>\n",
              "      <td>86</td>\n",
              "      <td>78</td>\n",
              "      <td>89</td>\n",
              "      <td>918</td>\n",
              "      <td>89</td>\n",
              "      <td>34</td>\n",
              "      <td>24</td>\n",
              "      <td>15</td>\n",
              "      <td>24</td>\n",
              "      <td>34</td>\n",
              "    </tr>\n",
              "    <tr>\n",
              "      <th>1095</th>\n",
              "      <td>93</td>\n",
              "      <td>83</td>\n",
              "      <td>97</td>\n",
              "      <td>90</td>\n",
              "      <td>298</td>\n",
              "      <td>90</td>\n",
              "      <td>15</td>\n",
              "      <td>43</td>\n",
              "      <td>10</td>\n",
              "      <td>43</td>\n",
              "      <td>19</td>\n",
              "    </tr>\n",
              "  </tbody>\n",
              "</table>\n",
              "<p>1096 rows × 11 columns</p>\n",
              "</div>\n",
              "      <button class=\"colab-df-convert\" onclick=\"convertToInteractive('df-359ede38-d6f7-4e2d-9afc-f033a999b805')\"\n",
              "              title=\"Convert this dataframe to an interactive table.\"\n",
              "              style=\"display:none;\">\n",
              "        \n",
              "  <svg xmlns=\"http://www.w3.org/2000/svg\" height=\"24px\"viewBox=\"0 0 24 24\"\n",
              "       width=\"24px\">\n",
              "    <path d=\"M0 0h24v24H0V0z\" fill=\"none\"/>\n",
              "    <path d=\"M18.56 5.44l.94 2.06.94-2.06 2.06-.94-2.06-.94-.94-2.06-.94 2.06-2.06.94zm-11 1L8.5 8.5l.94-2.06 2.06-.94-2.06-.94L8.5 2.5l-.94 2.06-2.06.94zm10 10l.94 2.06.94-2.06 2.06-.94-2.06-.94-.94-2.06-.94 2.06-2.06.94z\"/><path d=\"M17.41 7.96l-1.37-1.37c-.4-.4-.92-.59-1.43-.59-.52 0-1.04.2-1.43.59L10.3 9.45l-7.72 7.72c-.78.78-.78 2.05 0 2.83L4 21.41c.39.39.9.59 1.41.59.51 0 1.02-.2 1.41-.59l7.78-7.78 2.81-2.81c.8-.78.8-2.07 0-2.86zM5.41 20L4 18.59l7.72-7.72 1.47 1.35L5.41 20z\"/>\n",
              "  </svg>\n",
              "      </button>\n",
              "      \n",
              "  <style>\n",
              "    .colab-df-container {\n",
              "      display:flex;\n",
              "      flex-wrap:wrap;\n",
              "      gap: 12px;\n",
              "    }\n",
              "\n",
              "    .colab-df-convert {\n",
              "      background-color: #E8F0FE;\n",
              "      border: none;\n",
              "      border-radius: 50%;\n",
              "      cursor: pointer;\n",
              "      display: none;\n",
              "      fill: #1967D2;\n",
              "      height: 32px;\n",
              "      padding: 0 0 0 0;\n",
              "      width: 32px;\n",
              "    }\n",
              "\n",
              "    .colab-df-convert:hover {\n",
              "      background-color: #E2EBFA;\n",
              "      box-shadow: 0px 1px 2px rgba(60, 64, 67, 0.3), 0px 1px 3px 1px rgba(60, 64, 67, 0.15);\n",
              "      fill: #174EA6;\n",
              "    }\n",
              "\n",
              "    [theme=dark] .colab-df-convert {\n",
              "      background-color: #3B4455;\n",
              "      fill: #D2E3FC;\n",
              "    }\n",
              "\n",
              "    [theme=dark] .colab-df-convert:hover {\n",
              "      background-color: #434B5C;\n",
              "      box-shadow: 0px 1px 3px 1px rgba(0, 0, 0, 0.15);\n",
              "      filter: drop-shadow(0px 1px 2px rgba(0, 0, 0, 0.3));\n",
              "      fill: #FFFFFF;\n",
              "    }\n",
              "  </style>\n",
              "\n",
              "      <script>\n",
              "        const buttonEl =\n",
              "          document.querySelector('#df-359ede38-d6f7-4e2d-9afc-f033a999b805 button.colab-df-convert');\n",
              "        buttonEl.style.display =\n",
              "          google.colab.kernel.accessAllowed ? 'block' : 'none';\n",
              "\n",
              "        async function convertToInteractive(key) {\n",
              "          const element = document.querySelector('#df-359ede38-d6f7-4e2d-9afc-f033a999b805');\n",
              "          const dataTable =\n",
              "            await google.colab.kernel.invokeFunction('convertToInteractive',\n",
              "                                                     [key], {});\n",
              "          if (!dataTable) return;\n",
              "\n",
              "          const docLinkHtml = 'Like what you see? Visit the ' +\n",
              "            '<a target=\"_blank\" href=https://colab.research.google.com/notebooks/data_table.ipynb>data table notebook</a>'\n",
              "            + ' to learn more about interactive tables.';\n",
              "          element.innerHTML = '';\n",
              "          dataTable['output_type'] = 'display_data';\n",
              "          await google.colab.output.renderOutput(dataTable, element);\n",
              "          const docLink = document.createElement('div');\n",
              "          docLink.innerHTML = docLinkHtml;\n",
              "          element.appendChild(docLink);\n",
              "        }\n",
              "      </script>\n",
              "    </div>\n",
              "  </div>\n",
              "  "
            ]
          },
          "metadata": {},
          "execution_count": 15
        }
      ],
      "source": [
        "X"
      ]
    },
    {
      "cell_type": "code",
      "execution_count": 16,
      "metadata": {
        "id": "kEWEKwTZesKh"
      },
      "outputs": [],
      "source": [
        "del df \n",
        "#We'll use a test size of 30%. We also stratify the split on the response variable, which is very important to do because there are so few fraudulent transactions.\n",
        "from sklearn.model_selection import train_test_split\n",
        "X_train, X_test, y_train, y_test = train_test_split(X, y, test_size=0.3, random_state=1, stratify=y)"
      ]
    },
    {
      "cell_type": "code",
      "execution_count": 17,
      "metadata": {
        "id": "tbBvMEi5esKi"
      },
      "outputs": [],
      "source": [
        "#for our convienient we delete X,y variable for differentiate confusion\n",
        "#del X, y"
      ]
    },
    {
      "cell_type": "code",
      "execution_count": 18,
      "metadata": {
        "id": "skaIQzCoesKi"
      },
      "outputs": [],
      "source": [
        "# Prevent view warnings\n",
        "X_train.is_copy = False\n",
        "X_test.is_copy = False"
      ]
    },
    {
      "cell_type": "markdown",
      "metadata": {
        "id": "bm91GI_uesKi"
      },
      "source": [
        "Random Forest:"
      ]
    },
    {
      "cell_type": "code",
      "execution_count": 19,
      "metadata": {
        "colab": {
          "base_uri": "https://localhost:8080/"
        },
        "id": "pLHNAdOpesKi",
        "outputId": "75504657-4a43-44c4-bda9-ea07c568ff90"
      },
      "outputs": [
        {
          "output_type": "stream",
          "name": "stdout",
          "text": [
            "\n",
            "Classification report of Random Forest Results:\n",
            "\n",
            "              precision    recall  f1-score   support\n",
            "\n",
            "           0       0.68      0.70      0.69       155\n",
            "           1       0.73      0.71      0.72       174\n",
            "\n",
            "    accuracy                           0.71       329\n",
            "   macro avg       0.70      0.71      0.70       329\n",
            "weighted avg       0.71      0.71      0.71       329\n",
            "\n",
            "Accuracy result of Random Forest is: 70.51671732522796\n",
            "\n",
            "Confusion Matrix result of Random Forest is:\n",
            " [[109  46]\n",
            " [ 51 123]]\n",
            "\n",
            "Sensitivity :  0.7032258064516129\n",
            "\n",
            "Specificity :  0.7068965517241379\n",
            "\n"
          ]
        }
      ],
      "source": [
        "from sklearn.ensemble import RandomForestClassifier\n",
        "rfc = RandomForestClassifier()\n",
        "\n",
        "rfc.fit(X_train,y_train)\n",
        "\n",
        "predictR = rfc.predict(X_test)\n",
        "\n",
        "print(\"\")\n",
        "print('Classification report of Random Forest Results:')\n",
        "print(\"\")\n",
        "\n",
        "print(classification_report(y_test,predictR))\n",
        "x = (accuracy_score(y_test,predictR)*100)\n",
        "\n",
        "print('Accuracy result of Random Forest is:', x)\n",
        "print(\"\")\n",
        "cm1=confusion_matrix(y_test,predictR)\n",
        "print('Confusion Matrix result of Random Forest is:\\n',cm1)\n",
        "print(\"\")\n",
        "sensitivity1 = cm1[0,0]/(cm1[0,0]+cm1[0,1])\n",
        "print('Sensitivity : ', sensitivity1 )\n",
        "print(\"\")\n",
        "specificity1 = cm1[1,1]/(cm1[1,0]+cm1[1,1])\n",
        "print('Specificity : ', specificity1)\n",
        "print(\"\")\n"
      ]
    },
    {
      "cell_type": "code",
      "execution_count": 20,
      "metadata": {
        "colab": {
          "base_uri": "https://localhost:8080/"
        },
        "id": "GK9SIk05esKj",
        "outputId": "7dfe4882-2a30-4aed-8611-1ee09db57854"
      },
      "outputs": [
        {
          "output_type": "stream",
          "name": "stdout",
          "text": [
            "True Positive : 123\n",
            "True Negative : 109\n",
            "False Positive : 46\n",
            "False Negative : 51\n",
            "\n",
            "True Positive Rate : 0.7068965517241379\n",
            "True Negative Rate : 0.7032258064516129\n",
            "False Positive Rate : 0.2967741935483871\n",
            "False Negative Rate : 0.29310344827586204\n",
            "\n",
            "Positive Predictive Value : 0.727810650887574\n",
            "Negative predictive value : 0.68125\n"
          ]
        }
      ],
      "source": [
        "TN = cm1[0][0]\n",
        "FN = cm1[1][0]\n",
        "TP = cm1[1][1]\n",
        "FP = cm1[0][1]\n",
        "print(\"True Positive :\",TP)\n",
        "print(\"True Negative :\",TN)\n",
        "print(\"False Positive :\",FP)\n",
        "print(\"False Negative :\",FN)\n",
        "print(\"\")\n",
        "TPR = TP/(TP+FN)\n",
        "TNR = TN/(TN+FP)\n",
        "FPR = FP/(FP+TN)\n",
        "FNR = FN/(TP+FN)\n",
        "print(\"True Positive Rate :\",TPR)\n",
        "print(\"True Negative Rate :\",TNR)\n",
        "print(\"False Positive Rate :\",FPR)\n",
        "print(\"False Negative Rate :\",FNR)\n",
        "print(\"\")\n",
        "PPV = TP/(TP+FP)\n",
        "NPV = TN/(TN+FN)\n",
        "print(\"Positive Predictive Value :\",PPV)\n",
        "print(\"Negative predictive value :\",NPV)"
      ]
    },
    {
      "cell_type": "markdown",
      "metadata": {
        "id": "45VJTsgFesKk"
      },
      "source": [
        "Support Vector Machines:"
      ]
    },
    {
      "cell_type": "code",
      "execution_count": 21,
      "metadata": {
        "colab": {
          "base_uri": "https://localhost:8080/"
        },
        "id": "kAA0e_6wesKk",
        "outputId": "19dea9b6-0940-46eb-82f2-df45684ee626"
      },
      "outputs": [
        {
          "output_type": "stream",
          "name": "stdout",
          "text": [
            "\n",
            "Classification report of Support Vector Machines Results:\n",
            "\n",
            "              precision    recall  f1-score   support\n",
            "\n",
            "           0       0.81      0.36      0.50       155\n",
            "           1       0.62      0.93      0.74       174\n",
            "\n",
            "    accuracy                           0.66       329\n",
            "   macro avg       0.72      0.64      0.62       329\n",
            "weighted avg       0.71      0.66      0.63       329\n",
            "\n",
            "Accuracy result of Support Vector Machines is: 65.95744680851064\n",
            "\n",
            "Confusion Matrix result of Support Vector Machines is:\n",
            " [[ 56  99]\n",
            " [ 13 161]]\n",
            "\n",
            "Sensitivity :  0.36129032258064514\n",
            "\n",
            "Specificity :  0.9252873563218391\n",
            "\n"
          ]
        }
      ],
      "source": [
        "from sklearn.svm import SVC\n",
        "s = SVC()\n",
        "\n",
        "s.fit(X_train,y_train)\n",
        "\n",
        "predicts = s.predict(X_test)\n",
        "\n",
        "print(\"\")\n",
        "print('Classification report of Support Vector Machines Results:')\n",
        "print(\"\")\n",
        "\n",
        "print(classification_report(y_test,predicts))\n",
        "x = (accuracy_score(y_test,predicts)*100)\n",
        "\n",
        "print('Accuracy result of Support Vector Machines is:', x)\n",
        "print(\"\")\n",
        "cm2=confusion_matrix(y_test,predicts)\n",
        "print('Confusion Matrix result of Support Vector Machines is:\\n',cm2)\n",
        "print(\"\")\n",
        "sensitivity1 = cm2[0,0]/(cm2[0,0]+cm2[0,1])\n",
        "print('Sensitivity : ', sensitivity1 )\n",
        "print(\"\")\n",
        "specificity1 = cm2[1,1]/(cm2[1,0]+cm2[1,1])\n",
        "print('Specificity : ', specificity1)\n",
        "print(\"\")\n"
      ]
    },
    {
      "cell_type": "code",
      "execution_count": 22,
      "metadata": {
        "colab": {
          "base_uri": "https://localhost:8080/"
        },
        "id": "pxz3tYo2esKk",
        "outputId": "4dca0cf6-e3b3-4a66-a734-d9794369d475"
      },
      "outputs": [
        {
          "output_type": "stream",
          "name": "stdout",
          "text": [
            "True Positive : 161\n",
            "True Negative : 56\n",
            "False Positive : 99\n",
            "False Negative : 13\n",
            "\n",
            "True Positive Rate : 0.9252873563218391\n",
            "True Negative Rate : 0.36129032258064514\n",
            "False Positive Rate : 0.6387096774193548\n",
            "False Negative Rate : 0.07471264367816093\n",
            "\n",
            "Positive Predictive Value : 0.6192307692307693\n",
            "Negative predictive value : 0.8115942028985508\n"
          ]
        }
      ],
      "source": [
        "TN = cm2[0][0]\n",
        "FN = cm2[1][0]\n",
        "TP = cm2[1][1]\n",
        "FP = cm2[0][1]\n",
        "print(\"True Positive :\",TP)\n",
        "print(\"True Negative :\",TN)\n",
        "print(\"False Positive :\",FP)\n",
        "print(\"False Negative :\",FN)\n",
        "print(\"\")\n",
        "TPR = TP/(TP+FN)\n",
        "TNR = TN/(TN+FP)\n",
        "FPR = FP/(FP+TN)\n",
        "FNR = FN/(TP+FN)\n",
        "print(\"True Positive Rate :\",TPR)\n",
        "print(\"True Negative Rate :\",TNR)\n",
        "print(\"False Positive Rate :\",FPR)\n",
        "print(\"False Negative Rate :\",FNR)\n",
        "print(\"\")\n",
        "PPV = TP/(TP+FP)\n",
        "NPV = TN/(TN+FN)\n",
        "print(\"Positive Predictive Value :\",PPV)\n",
        "print(\"Negative predictive value :\",NPV)"
      ]
    }
  ],
  "metadata": {
    "kernelspec": {
      "display_name": "Python 3 (ipykernel)",
      "language": "python",
      "name": "python3"
    },
    "language_info": {
      "codemirror_mode": {
        "name": "ipython",
        "version": 3
      },
      "file_extension": ".py",
      "mimetype": "text/x-python",
      "name": "python",
      "nbconvert_exporter": "python",
      "pygments_lexer": "ipython3",
      "version": "3.9.7"
    },
    "colab": {
      "provenance": [],
      "include_colab_link": true
    }
  },
  "nbformat": 4,
  "nbformat_minor": 0
}