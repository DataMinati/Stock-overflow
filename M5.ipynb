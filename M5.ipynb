{
  "cells": [
    {
      "cell_type": "markdown",
      "metadata": {
        "id": "view-in-github",
        "colab_type": "text"
      },
      "source": [
        "<a href=\"https://colab.research.google.com/github/DataMinati/Stock-overflow/blob/main/M5.ipynb\" target=\"_parent\"><img src=\"https://colab.research.google.com/assets/colab-badge.svg\" alt=\"Open In Colab\"/></a>"
      ]
    },
    {
      "cell_type": "markdown",
      "metadata": {
        "id": "laSiFVK4fiUc"
      },
      "source": [
        "# Module 5 : Performance measurements of Naive Bayes and K-Nearest Neighbor "
      ]
    },
    {
      "cell_type": "code",
      "execution_count": 1,
      "metadata": {
        "id": "wTzhro3lfiUf"
      },
      "outputs": [],
      "source": [
        "#import library packages\n",
        "import pandas as p\n",
        "import matplotlib.pyplot as plt\n",
        "import seaborn as s\n",
        "import numpy as n"
      ]
    },
    {
      "cell_type": "code",
      "execution_count": 2,
      "metadata": {
        "id": "fhjYK47wfiUg"
      },
      "outputs": [],
      "source": [
        "import warnings\n",
        "warnings.filterwarnings('ignore')"
      ]
    },
    {
      "cell_type": "code",
      "execution_count": 3,
      "metadata": {
        "id": "vjYlbPSpfiUh"
      },
      "outputs": [],
      "source": [
        "#Load given dataset\n",
        "data = p.read_csv(\"/content/combined_stock_data.csv\")"
      ]
    },
    {
      "cell_type": "code",
      "execution_count": 4,
      "metadata": {
        "id": "juRL8MKvfiUh"
      },
      "outputs": [],
      "source": [
        "data1 = p.read_csv(\"/content/upload_DJIA_table.csv\")"
      ]
    },
    {
      "cell_type": "code",
      "execution_count": 5,
      "metadata": {
        "id": "Cn4HvQvYfiUh"
      },
      "outputs": [],
      "source": [
        "import warnings\n",
        "warnings.filterwarnings('ignore')"
      ]
    },
    {
      "cell_type": "code",
      "execution_count": 6,
      "metadata": {
        "id": "sONW6tHBfiUi"
      },
      "outputs": [],
      "source": [
        "df=p.concat([data1,data],axis=1)"
      ]
    },
    {
      "cell_type": "code",
      "execution_count": 7,
      "metadata": {
        "id": "iCFMTva1fiUi"
      },
      "outputs": [],
      "source": [
        "df=df.dropna()"
      ]
    },
    {
      "cell_type": "code",
      "execution_count": 8,
      "metadata": {
        "colab": {
          "base_uri": "https://localhost:8080/"
        },
        "id": "8kbFOYFcfiUi",
        "outputId": "7897d0e9-62ac-4f6f-e43d-93807a3d5dec"
      },
      "outputs": [
        {
          "output_type": "execute_result",
          "data": {
            "text/plain": [
              "Index(['Date', 'Open', 'High', 'Low', 'Close', 'Volume', 'Adj Close',\n",
              "       'Unnamed: 0', 'Date', 'Label', 'Top1', 'Top2', 'Top3', 'Top4', 'Top5',\n",
              "       'Top6', 'Top7', 'Top8', 'Top9', 'Top10', 'Top11', 'Top12', 'Top13',\n",
              "       'Top14', 'Top15', 'Top16', 'Top17', 'Top18', 'Top19', 'Top20', 'Top21',\n",
              "       'Top22', 'Top23', 'Top24', 'Top25', 'Para', 'Subjectivity',\n",
              "       'Objectivity', 'Positive', 'Neutral', 'Negative'],\n",
              "      dtype='object')"
            ]
          },
          "metadata": {},
          "execution_count": 8
        }
      ],
      "source": [
        "df.columns"
      ]
    },
    {
      "cell_type": "code",
      "execution_count": 9,
      "metadata": {
        "id": "-kSIHUrnfiUj"
      },
      "outputs": [],
      "source": [
        "from sklearn.preprocessing import LabelEncoder\n",
        "var_mod = ['Open', 'High', 'Low', 'Close', 'Volume', 'Adj Close','Label', 'Top1', 'Top2', 'Top3', 'Top4', 'Top5',\n",
        "       'Top6', 'Top7', 'Top8', 'Top9', 'Top10', 'Top11', 'Top12', 'Top13',\n",
        "       'Top14', 'Top15', 'Top16', 'Top17', 'Top18', 'Top19', 'Top20', 'Top21',\n",
        "       'Top22', 'Top23', 'Top24', 'Top25', 'Subjectivity',\n",
        "       'Objectivity', 'Positive', 'Neutral', 'Negative']\n",
        "le = LabelEncoder()\n",
        "for i in var_mod:\n",
        "    df[i] = le.fit_transform(df[i]).astype(str)"
      ]
    },
    {
      "cell_type": "code",
      "execution_count": 10,
      "metadata": {
        "id": "eYa3nnXYfiUj"
      },
      "outputs": [],
      "source": [
        "#According to the cross-validated MCC scores, the random forest is the best-performing model, so now let's evaluate its performance on the test set.\n",
        "from sklearn.metrics import confusion_matrix, classification_report, matthews_corrcoef, cohen_kappa_score, accuracy_score, average_precision_score, roc_auc_score"
      ]
    },
    {
      "cell_type": "code",
      "execution_count": 11,
      "metadata": {
        "id": "EaGaivVQfiUk"
      },
      "outputs": [],
      "source": [
        "X=df[['Open', 'High', 'Low', 'Close', 'Volume', 'Adj Close','Subjectivity','Objectivity', 'Positive', 'Neutral', 'Negative']]\n",
        "#Response variable\n",
        "y = df.loc[:,'Label']    "
      ]
    },
    {
      "cell_type": "code",
      "execution_count": 12,
      "metadata": {
        "id": "DqDBi6egfiUk"
      },
      "outputs": [],
      "source": [
        "del df \n",
        "#We'll use a test size of 30%. We also stratify the split on the response variable, which is very important to do because there are so few fraudulent transactions.\n",
        "from sklearn.model_selection import train_test_split\n",
        "X_train, X_test, y_train, y_test = train_test_split(X, y, test_size=0.3, random_state=1, stratify=y)"
      ]
    },
    {
      "cell_type": "code",
      "execution_count": 13,
      "metadata": {
        "id": "1kQUqbRzfiUk"
      },
      "outputs": [],
      "source": [
        "#for our convienient we delete X,y variable for differentiate confusion\n",
        "del X, y"
      ]
    },
    {
      "cell_type": "code",
      "execution_count": 14,
      "metadata": {
        "id": "qPj3o83SfiUl"
      },
      "outputs": [],
      "source": [
        "# Prevent view warnings\n",
        "X_train.is_copy = False\n",
        "X_test.is_copy = False"
      ]
    },
    {
      "cell_type": "markdown",
      "metadata": {
        "id": "c7aPDIdZfiUl"
      },
      "source": [
        "Naive Bayes:"
      ]
    },
    {
      "cell_type": "code",
      "execution_count": 15,
      "metadata": {
        "colab": {
          "base_uri": "https://localhost:8080/"
        },
        "id": "YC8dRY7afiUl",
        "outputId": "a74fa353-6edd-4504-d8ef-83dc5f759c05"
      },
      "outputs": [
        {
          "output_type": "stream",
          "name": "stdout",
          "text": [
            "\n",
            "Classification report of Naive Bayes Results:\n",
            "\n",
            "              precision    recall  f1-score   support\n",
            "\n",
            "           0       0.44      0.31      0.36       277\n",
            "           1       0.52      0.66      0.58       319\n",
            "\n",
            "    accuracy                           0.49       596\n",
            "   macro avg       0.48      0.48      0.47       596\n",
            "weighted avg       0.48      0.49      0.48       596\n",
            "\n",
            "Accuracy result of Naive Bayes is: 49.49664429530201\n",
            "\n",
            "Confusion Matrix result of Naive Bayes is:\n",
            " [[ 86 191]\n",
            " [110 209]]\n",
            "\n",
            "Sensitivity :  0.3104693140794224\n",
            "\n",
            "Specificity :  0.6551724137931034\n",
            "\n"
          ]
        }
      ],
      "source": [
        "from sklearn.naive_bayes import GaussianNB\n",
        "gnb = GaussianNB()\n",
        "\n",
        "gnb.fit(X_train,y_train)\n",
        "\n",
        "predictR = gnb.predict(X_test)\n",
        "\n",
        "print(\"\")\n",
        "print('Classification report of Naive Bayes Results:')\n",
        "print(\"\")\n",
        "\n",
        "print(classification_report(y_test,predictR))\n",
        "x = (accuracy_score(y_test,predictR)*100)\n",
        "\n",
        "print('Accuracy result of Naive Bayes is:', x)\n",
        "print(\"\")\n",
        "cm1=confusion_matrix(y_test,predictR)\n",
        "print('Confusion Matrix result of Naive Bayes is:\\n',cm1)\n",
        "print(\"\")\n",
        "sensitivity1 = cm1[0,0]/(cm1[0,0]+cm1[0,1])\n",
        "print('Sensitivity : ', sensitivity1 )\n",
        "print(\"\")\n",
        "specificity1 = cm1[1,1]/(cm1[1,0]+cm1[1,1])\n",
        "print('Specificity : ', specificity1)\n",
        "print(\"\")\n"
      ]
    },
    {
      "cell_type": "code",
      "execution_count": 16,
      "metadata": {
        "colab": {
          "base_uri": "https://localhost:8080/"
        },
        "id": "f8gtRsbsfiUm",
        "outputId": "94dc5e86-6f2e-4d9a-d813-556b98c0727d"
      },
      "outputs": [
        {
          "output_type": "stream",
          "name": "stdout",
          "text": [
            "True Positive : 209\n",
            "True Negative : 86\n",
            "False Positive : 191\n",
            "False Negative : 110\n",
            "\n",
            "True Positive Rate : 0.6551724137931034\n",
            "True Negative Rate : 0.3104693140794224\n",
            "False Positive Rate : 0.6895306859205776\n",
            "False Negative Rate : 0.3448275862068966\n",
            "\n",
            "Positive Predictive Value : 0.5225\n",
            "Negative predictive value : 0.4387755102040816\n"
          ]
        }
      ],
      "source": [
        "TN = cm1[0][0]\n",
        "FN = cm1[1][0]\n",
        "TP = cm1[1][1]\n",
        "FP = cm1[0][1]\n",
        "print(\"True Positive :\",TP)\n",
        "print(\"True Negative :\",TN)\n",
        "print(\"False Positive :\",FP)\n",
        "print(\"False Negative :\",FN)\n",
        "print(\"\")\n",
        "TPR = TP/(TP+FN)\n",
        "TNR = TN/(TN+FP)\n",
        "FPR = FP/(FP+TN)\n",
        "FNR = FN/(TP+FN)\n",
        "print(\"True Positive Rate :\",TPR)\n",
        "print(\"True Negative Rate :\",TNR)\n",
        "print(\"False Positive Rate :\",FPR)\n",
        "print(\"False Negative Rate :\",FNR)\n",
        "print(\"\")\n",
        "PPV = TP/(TP+FP)\n",
        "NPV = TN/(TN+FN)\n",
        "print(\"Positive Predictive Value :\",PPV)\n",
        "print(\"Negative predictive value :\",NPV)"
      ]
    },
    {
      "cell_type": "markdown",
      "metadata": {
        "id": "69Q7qn6HfiUm"
      },
      "source": [
        "K-Nearest Neighbor:"
      ]
    },
    {
      "cell_type": "code",
      "execution_count": 17,
      "metadata": {
        "colab": {
          "base_uri": "https://localhost:8080/"
        },
        "id": "gAkTBH0WfiUm",
        "outputId": "60d11071-db40-41cd-ab6d-88f682ac80ff"
      },
      "outputs": [
        {
          "output_type": "stream",
          "name": "stdout",
          "text": [
            "\n",
            "Classification report of K-Nearest Neighbor Results:\n",
            "\n",
            "              precision    recall  f1-score   support\n",
            "\n",
            "           0       0.57      0.54      0.56       277\n",
            "           1       0.62      0.65      0.64       319\n",
            "\n",
            "    accuracy                           0.60       596\n",
            "   macro avg       0.60      0.60      0.60       596\n",
            "weighted avg       0.60      0.60      0.60       596\n",
            "\n",
            "Accuracy result of K-Nearest Neighbor is: 60.06711409395973\n",
            "\n",
            "Confusion Matrix result of K-Nearest Neighbor is:\n",
            " [[150 127]\n",
            " [111 208]]\n",
            "\n",
            "Sensitivity :  0.5415162454873647\n",
            "\n",
            "Specificity :  0.6520376175548589\n",
            "\n"
          ]
        }
      ],
      "source": [
        "from sklearn.neighbors import KNeighborsClassifier\n",
        "knnc = KNeighborsClassifier()\n",
        "\n",
        "knnc.fit(X_train,y_train)\n",
        "\n",
        "predictR = knnc.predict(X_test)\n",
        "\n",
        "print(\"\")\n",
        "print('Classification report of K-Nearest Neighbor Results:')\n",
        "print(\"\")\n",
        "\n",
        "print(classification_report(y_test,predictR))\n",
        "x = (accuracy_score(y_test,predictR)*100)\n",
        "\n",
        "print('Accuracy result of K-Nearest Neighbor is:', x)\n",
        "print(\"\")\n",
        "cm2=confusion_matrix(y_test,predictR)\n",
        "print('Confusion Matrix result of K-Nearest Neighbor is:\\n',cm2)\n",
        "print(\"\")\n",
        "sensitivity1 = cm2[0,0]/(cm2[0,0]+cm2[0,1])\n",
        "print('Sensitivity : ', sensitivity1 )\n",
        "print(\"\")\n",
        "specificity1 = cm2[1,1]/(cm2[1,0]+cm2[1,1])\n",
        "print('Specificity : ', specificity1)\n",
        "print(\"\")\n"
      ]
    },
    {
      "cell_type": "code",
      "execution_count": 18,
      "metadata": {
        "colab": {
          "base_uri": "https://localhost:8080/"
        },
        "id": "9PmEdBajfiUn",
        "outputId": "447e7746-6faf-4dc1-cbe7-994f5e10d272"
      },
      "outputs": [
        {
          "output_type": "stream",
          "name": "stdout",
          "text": [
            "True Positive : 208\n",
            "True Negative : 150\n",
            "False Positive : 127\n",
            "False Negative : 111\n",
            "\n",
            "True Positive Rate : 0.6520376175548589\n",
            "True Negative Rate : 0.5415162454873647\n",
            "False Positive Rate : 0.4584837545126354\n",
            "False Negative Rate : 0.34796238244514105\n",
            "\n",
            "Positive Predictive Value : 0.6208955223880597\n",
            "Negative predictive value : 0.5747126436781609\n"
          ]
        }
      ],
      "source": [
        "TN = cm2[0][0]\n",
        "FN = cm2[1][0]\n",
        "TP = cm2[1][1]\n",
        "FP = cm2[0][1]\n",
        "print(\"True Positive :\",TP)\n",
        "print(\"True Negative :\",TN)\n",
        "print(\"False Positive :\",FP)\n",
        "print(\"False Negative :\",FN)\n",
        "print(\"\")\n",
        "TPR = TP/(TP+FN)\n",
        "TNR = TN/(TN+FP)\n",
        "FPR = FP/(FP+TN)\n",
        "FNR = FN/(TP+FN)\n",
        "print(\"True Positive Rate :\",TPR)\n",
        "print(\"True Negative Rate :\",TNR)\n",
        "print(\"False Positive Rate :\",FPR)\n",
        "print(\"False Negative Rate :\",FNR)\n",
        "print(\"\")\n",
        "PPV = TP/(TP+FP)\n",
        "NPV = TN/(TN+FN)\n",
        "print(\"Positive Predictive Value :\",PPV)\n",
        "print(\"Negative predictive value :\",NPV)"
      ]
    }
  ],
  "metadata": {
    "kernelspec": {
      "display_name": "Python 3 (ipykernel)",
      "language": "python",
      "name": "python3"
    },
    "language_info": {
      "codemirror_mode": {
        "name": "ipython",
        "version": 3
      },
      "file_extension": ".py",
      "mimetype": "text/x-python",
      "name": "python",
      "nbconvert_exporter": "python",
      "pygments_lexer": "ipython3",
      "version": "3.9.7"
    },
    "colab": {
      "provenance": [],
      "include_colab_link": true
    }
  },
  "nbformat": 4,
  "nbformat_minor": 0
}